{
 "cells": [
  {
   "cell_type": "code",
   "execution_count": 1,
   "metadata": {},
   "outputs": [],
   "source": [
    "import pandas as pd\n",
    "import numpy as np\n",
    "from causal_world import world_generator, show_parameters, sample_parameters, sample"
   ]
  },
  {
   "cell_type": "code",
   "execution_count": 2,
   "metadata": {},
   "outputs": [],
   "source": [
    "np.random.seed(123)\n",
    "world = world_generator(\n",
    "    features=4,\n",
    "    parameters_override={\n",
    "        \"t_effect\": np.array([[10, 0, 0, 0, 0]]).T,\n",
    "        \"daily_samples\": 10000\n",
    "    }\n",
    ")"
   ]
  },
  {
   "cell_type": "code",
   "execution_count": 3,
   "metadata": {},
   "outputs": [],
   "source": [
    "data, world = world.get(\"sampler\")()"
   ]
  },
  {
   "cell_type": "code",
   "execution_count": 4,
   "metadata": {},
   "outputs": [
    {
     "data": {
      "text/html": [
       "<div>\n",
       "<style scoped>\n",
       "    .dataframe tbody tr th:only-of-type {\n",
       "        vertical-align: middle;\n",
       "    }\n",
       "\n",
       "    .dataframe tbody tr th {\n",
       "        vertical-align: top;\n",
       "    }\n",
       "\n",
       "    .dataframe thead th {\n",
       "        text-align: right;\n",
       "    }\n",
       "</style>\n",
       "<table border=\"1\" class=\"dataframe\">\n",
       "  <thead>\n",
       "    <tr style=\"text-align: right;\">\n",
       "      <th></th>\n",
       "      <th>T</th>\n",
       "      <th>x_1</th>\n",
       "      <th>x_2</th>\n",
       "      <th>x_3</th>\n",
       "      <th>x_4</th>\n",
       "      <th>Y</th>\n",
       "    </tr>\n",
       "  </thead>\n",
       "  <tbody>\n",
       "    <tr>\n",
       "      <th>0</th>\n",
       "      <td>1.0</td>\n",
       "      <td>94.45</td>\n",
       "      <td>42.09</td>\n",
       "      <td>-163.60</td>\n",
       "      <td>-51.65</td>\n",
       "      <td>19.13</td>\n",
       "    </tr>\n",
       "    <tr>\n",
       "      <th>1</th>\n",
       "      <td>1.0</td>\n",
       "      <td>102.02</td>\n",
       "      <td>25.81</td>\n",
       "      <td>-147.16</td>\n",
       "      <td>-51.49</td>\n",
       "      <td>-12.66</td>\n",
       "    </tr>\n",
       "    <tr>\n",
       "      <th>2</th>\n",
       "      <td>1.0</td>\n",
       "      <td>103.17</td>\n",
       "      <td>29.29</td>\n",
       "      <td>-158.38</td>\n",
       "      <td>-50.41</td>\n",
       "      <td>-8.06</td>\n",
       "    </tr>\n",
       "    <tr>\n",
       "      <th>3</th>\n",
       "      <td>1.0</td>\n",
       "      <td>96.71</td>\n",
       "      <td>26.99</td>\n",
       "      <td>-158.74</td>\n",
       "      <td>-54.60</td>\n",
       "      <td>-5.03</td>\n",
       "    </tr>\n",
       "    <tr>\n",
       "      <th>4</th>\n",
       "      <td>0.0</td>\n",
       "      <td>114.16</td>\n",
       "      <td>26.23</td>\n",
       "      <td>-136.44</td>\n",
       "      <td>-45.06</td>\n",
       "      <td>-34.32</td>\n",
       "    </tr>\n",
       "  </tbody>\n",
       "</table>\n",
       "</div>"
      ],
      "text/plain": [
       "     T     x_1    x_2     x_3    x_4      Y\n",
       "0  1.0   94.45  42.09 -163.60 -51.65  19.13\n",
       "1  1.0  102.02  25.81 -147.16 -51.49 -12.66\n",
       "2  1.0  103.17  29.29 -158.38 -50.41  -8.06\n",
       "3  1.0   96.71  26.99 -158.74 -54.60  -5.03\n",
       "4  0.0  114.16  26.23 -136.44 -45.06 -34.32"
      ]
     },
     "execution_count": 4,
     "metadata": {},
     "output_type": "execute_result"
    }
   ],
   "source": [
    "data.head()"
   ]
  },
  {
   "cell_type": "code",
   "execution_count": 5,
   "metadata": {},
   "outputs": [],
   "source": [
    "data, world = world.get(\"sampler\")()"
   ]
  },
  {
   "cell_type": "code",
   "execution_count": 6,
   "metadata": {},
   "outputs": [
    {
     "data": {
      "text/html": [
       "<div>\n",
       "<style scoped>\n",
       "    .dataframe tbody tr th:only-of-type {\n",
       "        vertical-align: middle;\n",
       "    }\n",
       "\n",
       "    .dataframe tbody tr th {\n",
       "        vertical-align: top;\n",
       "    }\n",
       "\n",
       "    .dataframe thead th {\n",
       "        text-align: right;\n",
       "    }\n",
       "</style>\n",
       "<table border=\"1\" class=\"dataframe\">\n",
       "  <thead>\n",
       "    <tr style=\"text-align: right;\">\n",
       "      <th></th>\n",
       "      <th>T</th>\n",
       "      <th>x_1</th>\n",
       "      <th>x_2</th>\n",
       "      <th>x_3</th>\n",
       "      <th>x_4</th>\n",
       "      <th>Y</th>\n",
       "    </tr>\n",
       "  </thead>\n",
       "  <tbody>\n",
       "    <tr>\n",
       "      <th>0</th>\n",
       "      <td>0.0</td>\n",
       "      <td>93.61</td>\n",
       "      <td>23.03</td>\n",
       "      <td>-157.42</td>\n",
       "      <td>-60.40</td>\n",
       "      <td>-16.75</td>\n",
       "    </tr>\n",
       "    <tr>\n",
       "      <th>1</th>\n",
       "      <td>1.0</td>\n",
       "      <td>101.82</td>\n",
       "      <td>24.34</td>\n",
       "      <td>-140.58</td>\n",
       "      <td>-48.49</td>\n",
       "      <td>-16.12</td>\n",
       "    </tr>\n",
       "    <tr>\n",
       "      <th>2</th>\n",
       "      <td>0.0</td>\n",
       "      <td>94.01</td>\n",
       "      <td>28.95</td>\n",
       "      <td>-150.81</td>\n",
       "      <td>-65.07</td>\n",
       "      <td>-6.68</td>\n",
       "    </tr>\n",
       "    <tr>\n",
       "      <th>3</th>\n",
       "      <td>0.0</td>\n",
       "      <td>97.96</td>\n",
       "      <td>25.82</td>\n",
       "      <td>-140.27</td>\n",
       "      <td>-55.60</td>\n",
       "      <td>-18.37</td>\n",
       "    </tr>\n",
       "    <tr>\n",
       "      <th>4</th>\n",
       "      <td>0.0</td>\n",
       "      <td>107.16</td>\n",
       "      <td>31.70</td>\n",
       "      <td>-148.79</td>\n",
       "      <td>-48.54</td>\n",
       "      <td>-18.62</td>\n",
       "    </tr>\n",
       "  </tbody>\n",
       "</table>\n",
       "</div>"
      ],
      "text/plain": [
       "     T     x_1    x_2     x_3    x_4      Y\n",
       "0  0.0   93.61  23.03 -157.42 -60.40 -16.75\n",
       "1  1.0  101.82  24.34 -140.58 -48.49 -16.12\n",
       "2  0.0   94.01  28.95 -150.81 -65.07  -6.68\n",
       "3  0.0   97.96  25.82 -140.27 -55.60 -18.37\n",
       "4  0.0  107.16  31.70 -148.79 -48.54 -18.62"
      ]
     },
     "execution_count": 6,
     "metadata": {},
     "output_type": "execute_result"
    }
   ],
   "source": [
    "data.head()"
   ]
  },
  {
   "cell_type": "code",
   "execution_count": 7,
   "metadata": {},
   "outputs": [
    {
     "name": "stdout",
     "output_type": "stream",
     "text": [
      "time \n",
      " 1 \n",
      "\n",
      "mean \n",
      " [-108.56306033   99.73454466   28.29784981 -150.62947139  -57.8600252 ] \n",
      "\n",
      "covariance \n",
      " [[46.65274563  5.82570355 -4.56908375 12.62744759 18.56452602]\n",
      " [ 5.82570355 49.88654907  7.24111127  8.20709825  3.51683289]\n",
      " [-4.56908375  7.24111127 33.89574108 -1.55437125 -3.10665618]\n",
      " [12.62744759  8.20709825 -1.55437125 63.73730212 -5.24548633]\n",
      " [18.56452602  3.51683289 -3.10665618 -5.24548633 28.37013779]] \n",
      "\n",
      "y_coef \n",
      " [[-0.78680087]\n",
      " [ 1.53418437]\n",
      " [-0.04889153]\n",
      " [-0.34515174]] \n",
      "\n",
      "t_effect \n",
      " [[10]\n",
      " [ 0]\n",
      " [ 0]\n",
      " [ 0]\n",
      " [ 0]] \n",
      "\n",
      "beta0 \n",
      " [-6.95981176] \n",
      "\n",
      "binary_treatment \n",
      " True \n",
      "\n",
      "noise_tempering \n",
      " [4.73343591] \n",
      "\n",
      "daily_samples \n",
      " 10000 \n",
      "\n"
     ]
    }
   ],
   "source": [
    "show_parameters(world)"
   ]
  },
  {
   "cell_type": "code",
   "execution_count": 8,
   "metadata": {},
   "outputs": [
    {
     "data": {
      "text/html": [
       "<table class=\"simpletable\">\n",
       "<tr>\n",
       "      <td></td>         <th>coef</th>     <th>std err</th>      <th>t</th>      <th>P>|t|</th>  <th>[0.025</th>    <th>0.975]</th>  \n",
       "</tr>\n",
       "<tr>\n",
       "  <th>Intercept</th> <td>  -13.9949</td> <td>    0.134</td> <td> -104.160</td> <td> 0.000</td> <td>  -14.258</td> <td>  -13.732</td>\n",
       "</tr>\n",
       "<tr>\n",
       "  <th>T</th>         <td>    8.8142</td> <td>    0.200</td> <td>   44.090</td> <td> 0.000</td> <td>    8.422</td> <td>    9.206</td>\n",
       "</tr>\n",
       "</table>"
      ],
      "text/plain": [
       "<class 'statsmodels.iolib.table.SimpleTable'>"
      ]
     },
     "execution_count": 8,
     "metadata": {},
     "output_type": "execute_result"
    }
   ],
   "source": [
    "import statsmodels.formula.api as smf\n",
    "result = smf.ols('Y ~ T', data=data).fit()\n",
    "result.summary().tables[1]"
   ]
  },
  {
   "cell_type": "code",
   "execution_count": 9,
   "metadata": {},
   "outputs": [
    {
     "data": {
      "text/html": [
       "<table class=\"simpletable\">\n",
       "<tr>\n",
       "      <td></td>         <th>coef</th>     <th>std err</th>      <th>t</th>      <th>P>|t|</th>  <th>[0.025</th>    <th>0.975]</th>  \n",
       "</tr>\n",
       "<tr>\n",
       "  <th>Intercept</th> <td>   -6.9589</td> <td>    0.002</td> <td>-3884.465</td> <td> 0.000</td> <td>   -6.962</td> <td>   -6.955</td>\n",
       "</tr>\n",
       "<tr>\n",
       "  <th>T</th>         <td>    9.9999</td> <td>    0.000</td> <td> 8.33e+04</td> <td> 0.000</td> <td>   10.000</td> <td>   10.000</td>\n",
       "</tr>\n",
       "<tr>\n",
       "  <th>x_1</th>       <td>   -0.7868</td> <td> 8.74e-06</td> <td>   -9e+04</td> <td> 0.000</td> <td>   -0.787</td> <td>   -0.787</td>\n",
       "</tr>\n",
       "<tr>\n",
       "  <th>x_2</th>       <td>    1.5342</td> <td> 1.06e-05</td> <td> 1.45e+05</td> <td> 0.000</td> <td>    1.534</td> <td>    1.534</td>\n",
       "</tr>\n",
       "<tr>\n",
       "  <th>x_3</th>       <td>   -0.0489</td> <td> 7.69e-06</td> <td>-6357.067</td> <td> 0.000</td> <td>   -0.049</td> <td>   -0.049</td>\n",
       "</tr>\n",
       "<tr>\n",
       "  <th>x_4</th>       <td>   -0.3451</td> <td> 1.14e-05</td> <td>-3.03e+04</td> <td> 0.000</td> <td>   -0.345</td> <td>   -0.345</td>\n",
       "</tr>\n",
       "</table>"
      ],
      "text/plain": [
       "<class 'statsmodels.iolib.table.SimpleTable'>"
      ]
     },
     "execution_count": 9,
     "metadata": {},
     "output_type": "execute_result"
    }
   ],
   "source": [
    "result = smf.ols('Y ~ T+x_1+x_2+x_3+x_4+x_2', data=data).fit()\n",
    "result.summary().tables[1]"
   ]
  },
  {
   "cell_type": "markdown",
   "metadata": {},
   "source": [
    "### Random Sample"
   ]
  },
  {
   "cell_type": "code",
   "execution_count": 16,
   "metadata": {},
   "outputs": [],
   "source": [
    "def treatment_fn(features):\n",
    "    return np.random.binomial(1, 0.1, size=(features.shape[0],1))"
   ]
  },
  {
   "cell_type": "code",
   "execution_count": 18,
   "metadata": {},
   "outputs": [
    {
     "data": {
      "text/plain": [
       "0.098"
      ]
     },
     "execution_count": 18,
     "metadata": {},
     "output_type": "execute_result"
    }
   ],
   "source": [
    "data, world = world.get(\"sampler\")(treatment_fn=treatment_fn)\n",
    "data[\"T\"].mean()\n",
    "# random_sample = sate2.get(\"sampler\")(n=daily_samples, treatment_fn=treatment_fn)\n",
    "\n",
    "# random_sample.head()"
   ]
  },
  {
   "cell_type": "code",
   "execution_count": 19,
   "metadata": {},
   "outputs": [
    {
     "ename": "NameError",
     "evalue": "name 'random_sample' is not defined",
     "output_type": "error",
     "traceback": [
      "\u001b[0;31m---------------------------------------------------------------------------\u001b[0m",
      "\u001b[0;31mNameError\u001b[0m                                 Traceback (most recent call last)",
      "\u001b[0;32m<ipython-input-19-88572aa7b1d6>\u001b[0m in \u001b[0;36m<module>\u001b[0;34m\u001b[0m\n\u001b[0;32m----> 1\u001b[0;31m \u001b[0mrandom_sample\u001b[0m\u001b[0;34m.\u001b[0m\u001b[0mcorr\u001b[0m\u001b[0;34m(\u001b[0m\u001b[0;34m)\u001b[0m\u001b[0;34m\u001b[0m\u001b[0;34m\u001b[0m\u001b[0m\n\u001b[0m",
      "\u001b[0;31mNameError\u001b[0m: name 'random_sample' is not defined"
     ]
    }
   ],
   "source": [
    "random_sample.corr()"
   ]
  },
  {
   "cell_type": "markdown",
   "metadata": {},
   "source": [
    "## ATE"
   ]
  },
  {
   "cell_type": "code",
   "execution_count": 12,
   "metadata": {},
   "outputs": [
    {
     "data": {
      "text/html": [
       "<table class=\"simpletable\">\n",
       "<tr>\n",
       "      <td></td>         <th>coef</th>     <th>std err</th>      <th>t</th>      <th>P>|t|</th>  <th>[0.025</th>    <th>0.975]</th>  \n",
       "</tr>\n",
       "<tr>\n",
       "  <th>Intercept</th> <td> 2540.4419</td> <td>   17.459</td> <td>  145.510</td> <td> 0.000</td> <td> 2506.140</td> <td> 2574.744</td>\n",
       "</tr>\n",
       "<tr>\n",
       "  <th>T</th>         <td>   48.9674</td> <td>   25.359</td> <td>    1.931</td> <td> 0.054</td> <td>   -0.856</td> <td>   98.791</td>\n",
       "</tr>\n",
       "</table>"
      ],
      "text/plain": [
       "<class 'statsmodels.iolib.table.SimpleTable'>"
      ]
     },
     "execution_count": 12,
     "metadata": {},
     "output_type": "execute_result"
    }
   ],
   "source": [
    "import statsmodels.formula.api as smf\n",
    "result = smf.ols('Y ~ T', data=sample).fit()\n",
    "result.summary().tables[1]"
   ]
  },
  {
   "cell_type": "code",
   "execution_count": 13,
   "metadata": {},
   "outputs": [
    {
     "data": {
      "text/html": [
       "<table class=\"simpletable\">\n",
       "<tr>\n",
       "      <td></td>         <th>coef</th>     <th>std err</th>      <th>t</th>      <th>P>|t|</th>  <th>[0.025</th>    <th>0.975]</th>  \n",
       "</tr>\n",
       "<tr>\n",
       "  <th>Intercept</th> <td>  576.1815</td> <td>  614.947</td> <td>    0.937</td> <td> 0.349</td> <td> -632.052</td> <td> 1784.415</td>\n",
       "</tr>\n",
       "<tr>\n",
       "  <th>T</th>         <td>  165.5372</td> <td>   26.294</td> <td>    6.296</td> <td> 0.000</td> <td>  113.875</td> <td>  217.199</td>\n",
       "</tr>\n",
       "<tr>\n",
       "  <th>x_1</th>       <td>    4.8153</td> <td>    2.483</td> <td>    1.939</td> <td> 0.053</td> <td>   -0.063</td> <td>    9.694</td>\n",
       "</tr>\n",
       "<tr>\n",
       "  <th>x_2</th>       <td>   -4.8963</td> <td>    1.700</td> <td>   -2.880</td> <td> 0.004</td> <td>   -8.236</td> <td>   -1.556</td>\n",
       "</tr>\n",
       "<tr>\n",
       "  <th>x_3</th>       <td>    6.6579</td> <td>    1.643</td> <td>    4.052</td> <td> 0.000</td> <td>    3.430</td> <td>    9.886</td>\n",
       "</tr>\n",
       "<tr>\n",
       "  <th>x_4</th>       <td>  -18.1774</td> <td>    2.144</td> <td>   -8.479</td> <td> 0.000</td> <td>  -22.390</td> <td>  -13.965</td>\n",
       "</tr>\n",
       "</table>"
      ],
      "text/plain": [
       "<class 'statsmodels.iolib.table.SimpleTable'>"
      ]
     },
     "execution_count": 13,
     "metadata": {},
     "output_type": "execute_result"
    }
   ],
   "source": [
    "result = smf.ols('Y ~ T+x_1+x_2+x_3+x_4+x_2', data=sample).fit()\n",
    "result.summary().tables[1]"
   ]
  },
  {
   "cell_type": "code",
   "execution_count": 14,
   "metadata": {},
   "outputs": [
    {
     "data": {
      "text/html": [
       "<table class=\"simpletable\">\n",
       "<tr>\n",
       "      <td></td>         <th>coef</th>     <th>std err</th>      <th>t</th>      <th>P>|t|</th>  <th>[0.025</th>    <th>0.975]</th>  \n",
       "</tr>\n",
       "<tr>\n",
       "  <th>Intercept</th> <td>   22.7475</td> <td>  682.800</td> <td>    0.033</td> <td> 0.973</td> <td>-1318.803</td> <td> 1364.298</td>\n",
       "</tr>\n",
       "<tr>\n",
       "  <th>T</th>         <td>  150.5875</td> <td>   26.204</td> <td>    5.747</td> <td> 0.000</td> <td>   99.102</td> <td>  202.073</td>\n",
       "</tr>\n",
       "<tr>\n",
       "  <th>x_1</th>       <td>    1.9730</td> <td>    2.904</td> <td>    0.679</td> <td> 0.497</td> <td>   -3.733</td> <td>    7.679</td>\n",
       "</tr>\n",
       "<tr>\n",
       "  <th>x_2</th>       <td>   -4.5622</td> <td>    1.829</td> <td>   -2.495</td> <td> 0.013</td> <td>   -8.155</td> <td>   -0.969</td>\n",
       "</tr>\n",
       "<tr>\n",
       "  <th>x_3</th>       <td>   11.3375</td> <td>    1.997</td> <td>    5.677</td> <td> 0.000</td> <td>    7.413</td> <td>   15.262</td>\n",
       "</tr>\n",
       "<tr>\n",
       "  <th>x_4</th>       <td>  -18.8083</td> <td>    2.467</td> <td>   -7.623</td> <td> 0.000</td> <td>  -23.656</td> <td>  -13.961</td>\n",
       "</tr>\n",
       "</table>"
      ],
      "text/plain": [
       "<class 'statsmodels.iolib.table.SimpleTable'>"
      ]
     },
     "execution_count": 14,
     "metadata": {},
     "output_type": "execute_result"
    }
   ],
   "source": [
    "result = smf.ols('Y ~ T+x_1+x_2+x_3+x_4+x_2', data=random_sample).fit()\n",
    "result.summary().tables[1]"
   ]
  },
  {
   "cell_type": "markdown",
   "metadata": {},
   "source": [
    "## CATE"
   ]
  },
  {
   "cell_type": "code",
   "execution_count": 15,
   "metadata": {},
   "outputs": [
    {
     "data": {
      "text/html": [
       "<table class=\"simpletable\">\n",
       "<tr>\n",
       "      <td></td>         <th>coef</th>     <th>std err</th>      <th>t</th>      <th>P>|t|</th>  <th>[0.025</th>    <th>0.975]</th>  \n",
       "</tr>\n",
       "<tr>\n",
       "  <th>Intercept</th> <td> 1135.2239</td> <td>  847.244</td> <td>    1.340</td> <td> 0.181</td> <td> -529.456</td> <td> 2799.904</td>\n",
       "</tr>\n",
       "<tr>\n",
       "  <th>T</th>         <td> -935.3820</td> <td> 1237.448</td> <td>   -0.756</td> <td> 0.450</td> <td>-3366.741</td> <td> 1495.977</td>\n",
       "</tr>\n",
       "<tr>\n",
       "  <th>x_1</th>       <td>    7.2362</td> <td>    3.391</td> <td>    2.134</td> <td> 0.033</td> <td>    0.574</td> <td>   13.898</td>\n",
       "</tr>\n",
       "<tr>\n",
       "  <th>x_2</th>       <td>   -5.5801</td> <td>    2.259</td> <td>   -2.471</td> <td> 0.014</td> <td>  -10.018</td> <td>   -1.142</td>\n",
       "</tr>\n",
       "<tr>\n",
       "  <th>x_3</th>       <td>    2.2210</td> <td>    2.317</td> <td>    0.959</td> <td> 0.338</td> <td>   -2.332</td> <td>    6.774</td>\n",
       "</tr>\n",
       "<tr>\n",
       "  <th>x_4</th>       <td>  -17.5003</td> <td>    2.960</td> <td>   -5.913</td> <td> 0.000</td> <td>  -23.316</td> <td>  -11.685</td>\n",
       "</tr>\n",
       "<tr>\n",
       "  <th>T:x_1</th>     <td>   -5.0779</td> <td>    4.973</td> <td>   -1.021</td> <td> 0.308</td> <td>  -14.849</td> <td>    4.693</td>\n",
       "</tr>\n",
       "<tr>\n",
       "  <th>T:x_2</th>     <td>    1.6436</td> <td>    3.413</td> <td>    0.482</td> <td> 0.630</td> <td>   -5.062</td> <td>    8.349</td>\n",
       "</tr>\n",
       "<tr>\n",
       "  <th>T:x_3</th>     <td>    8.9749</td> <td>    3.277</td> <td>    2.739</td> <td> 0.006</td> <td>    2.536</td> <td>   15.414</td>\n",
       "</tr>\n",
       "<tr>\n",
       "  <th>T:x_4</th>     <td>   -0.8559</td> <td>    4.288</td> <td>   -0.200</td> <td> 0.842</td> <td>   -9.281</td> <td>    7.569</td>\n",
       "</tr>\n",
       "</table>"
      ],
      "text/plain": [
       "<class 'statsmodels.iolib.table.SimpleTable'>"
      ]
     },
     "execution_count": 15,
     "metadata": {},
     "output_type": "execute_result"
    }
   ],
   "source": [
    "result = smf.ols('Y ~ T*(x_1+x_2+x_3+x_4+x_2)', data=sample).fit()\n",
    "result.summary().tables[1]"
   ]
  },
  {
   "cell_type": "code",
   "execution_count": 16,
   "metadata": {},
   "outputs": [
    {
     "data": {
      "text/html": [
       "<table class=\"simpletable\">\n",
       "<tr>\n",
       "      <td></td>         <th>coef</th>     <th>std err</th>      <th>t</th>      <th>P>|t|</th>  <th>[0.025</th>    <th>0.975]</th>  \n",
       "</tr>\n",
       "<tr>\n",
       "  <th>Intercept</th> <td> -578.5664</td> <td>  901.238</td> <td>   -0.642</td> <td> 0.521</td> <td>-2349.334</td> <td> 1192.201</td>\n",
       "</tr>\n",
       "<tr>\n",
       "  <th>T</th>         <td> 1269.1134</td> <td> 1340.709</td> <td>    0.947</td> <td> 0.344</td> <td>-1365.134</td> <td> 3903.361</td>\n",
       "</tr>\n",
       "<tr>\n",
       "  <th>x_1</th>       <td>    1.1599</td> <td>    3.808</td> <td>    0.305</td> <td> 0.761</td> <td>   -6.323</td> <td>    8.643</td>\n",
       "</tr>\n",
       "<tr>\n",
       "  <th>x_2</th>       <td>   -0.9350</td> <td>    2.523</td> <td>   -0.371</td> <td> 0.711</td> <td>   -5.893</td> <td>    4.023</td>\n",
       "</tr>\n",
       "<tr>\n",
       "  <th>x_3</th>       <td>    3.5371</td> <td>    2.651</td> <td>    1.334</td> <td> 0.183</td> <td>   -1.671</td> <td>    8.745</td>\n",
       "</tr>\n",
       "<tr>\n",
       "  <th>x_4</th>       <td>  -21.2612</td> <td>    3.308</td> <td>   -6.426</td> <td> 0.000</td> <td>  -27.762</td> <td>  -14.761</td>\n",
       "</tr>\n",
       "<tr>\n",
       "  <th>T:x_1</th>     <td>    1.3643</td> <td>    5.707</td> <td>    0.239</td> <td> 0.811</td> <td>   -9.849</td> <td>   12.578</td>\n",
       "</tr>\n",
       "<tr>\n",
       "  <th>T:x_2</th>     <td>   -6.0505</td> <td>    3.582</td> <td>   -1.689</td> <td> 0.092</td> <td>  -13.088</td> <td>    0.987</td>\n",
       "</tr>\n",
       "<tr>\n",
       "  <th>T:x_3</th>     <td>   16.3840</td> <td>    3.926</td> <td>    4.173</td> <td> 0.000</td> <td>    8.670</td> <td>   24.098</td>\n",
       "</tr>\n",
       "<tr>\n",
       "  <th>T:x_4</th>     <td>    5.5305</td> <td>    4.833</td> <td>    1.144</td> <td> 0.253</td> <td>   -3.965</td> <td>   15.026</td>\n",
       "</tr>\n",
       "</table>"
      ],
      "text/plain": [
       "<class 'statsmodels.iolib.table.SimpleTable'>"
      ]
     },
     "execution_count": 16,
     "metadata": {},
     "output_type": "execute_result"
    }
   ],
   "source": [
    "result = smf.ols('Y ~ T*(x_1+x_2+x_3+x_4+x_2)', data=random_sample).fit()\n",
    "result.summary().tables[1]"
   ]
  },
  {
   "cell_type": "code",
   "execution_count": 17,
   "metadata": {},
   "outputs": [
    {
     "name": "stdout",
     "output_type": "stream",
     "text": [
      "y_coef \n",
      " [[-100]\n",
      " [   3]\n",
      " [  -2]\n",
      " [   4]\n",
      " [ -20]] \n",
      "\n",
      "t_effect \n",
      " [[100]\n",
      " [  0]\n",
      " [ -2]\n",
      " [ 10]\n",
      " [  0]] \n",
      "\n"
     ]
    }
   ],
   "source": [
    "show_parameters(state1, \"y_coef\")\n",
    "show_parameters(state1, \"t_effect\")"
   ]
  },
  {
   "cell_type": "markdown",
   "metadata": {},
   "source": [
    "## Evalation"
   ]
  },
  {
   "cell_type": "code",
   "execution_count": 18,
   "metadata": {},
   "outputs": [],
   "source": [
    "from sklearn.model_selection import train_test_split\n",
    "result = smf.ols('Y ~ T*(x_1+x_2+x_3+x_4+x_2)', data=random_sample).fit()"
   ]
  },
  {
   "cell_type": "code",
   "execution_count": 19,
   "metadata": {},
   "outputs": [],
   "source": [
    "state3 = sate2.get(\"world\")(3)\n",
    "evaluation_set = state3.get(\"sampler\")(n=daily_samples, treatment_fn=treatment_fn)"
   ]
  },
  {
   "cell_type": "code",
   "execution_count": 20,
   "metadata": {},
   "outputs": [],
   "source": [
    "predictions = (evaluation_set\n",
    "               .assign(lift=result.predict(evaluation_set.assign(T=1)).values -\n",
    "                            result.predict(evaluation_set.assign(T=0)).values))"
   ]
  },
  {
   "cell_type": "code",
   "execution_count": 21,
   "metadata": {},
   "outputs": [
    {
     "data": {
      "text/html": [
       "<div>\n",
       "<style scoped>\n",
       "    .dataframe tbody tr th:only-of-type {\n",
       "        vertical-align: middle;\n",
       "    }\n",
       "\n",
       "    .dataframe tbody tr th {\n",
       "        vertical-align: top;\n",
       "    }\n",
       "\n",
       "    .dataframe thead th {\n",
       "        text-align: right;\n",
       "    }\n",
       "</style>\n",
       "<table border=\"1\" class=\"dataframe\">\n",
       "  <thead>\n",
       "    <tr style=\"text-align: right;\">\n",
       "      <th>T</th>\n",
       "      <th>0.0</th>\n",
       "      <th>1.0</th>\n",
       "      <th>true_lift</th>\n",
       "    </tr>\n",
       "    <tr>\n",
       "      <th>lift_band</th>\n",
       "      <th></th>\n",
       "      <th></th>\n",
       "      <th></th>\n",
       "    </tr>\n",
       "  </thead>\n",
       "  <tbody>\n",
       "    <tr>\n",
       "      <th>(-293.35999999999996, 23.71]</th>\n",
       "      <td>2486.421277</td>\n",
       "      <td>2543.074906</td>\n",
       "      <td>56.653629</td>\n",
       "    </tr>\n",
       "    <tr>\n",
       "      <th>(23.71, 100.885]</th>\n",
       "      <td>2526.553673</td>\n",
       "      <td>2583.875882</td>\n",
       "      <td>57.322209</td>\n",
       "    </tr>\n",
       "    <tr>\n",
       "      <th>(100.885, 175.975]</th>\n",
       "      <td>2481.569574</td>\n",
       "      <td>2669.000189</td>\n",
       "      <td>187.430614</td>\n",
       "    </tr>\n",
       "    <tr>\n",
       "      <th>(175.975, 270.065]</th>\n",
       "      <td>2535.781923</td>\n",
       "      <td>2731.205208</td>\n",
       "      <td>195.423285</td>\n",
       "    </tr>\n",
       "    <tr>\n",
       "      <th>(270.065, 598.032]</th>\n",
       "      <td>2530.862653</td>\n",
       "      <td>2887.498431</td>\n",
       "      <td>356.635778</td>\n",
       "    </tr>\n",
       "  </tbody>\n",
       "</table>\n",
       "</div>"
      ],
      "text/plain": [
       "T                                     0.0          1.0   true_lift\n",
       "lift_band                                                         \n",
       "(-293.35999999999996, 23.71]  2486.421277  2543.074906   56.653629\n",
       "(23.71, 100.885]              2526.553673  2583.875882   57.322209\n",
       "(100.885, 175.975]            2481.569574  2669.000189  187.430614\n",
       "(175.975, 270.065]            2535.781923  2731.205208  195.423285\n",
       "(270.065, 598.032]            2530.862653  2887.498431  356.635778"
      ]
     },
     "execution_count": 21,
     "metadata": {},
     "output_type": "execute_result"
    }
   ],
   "source": [
    "(predictions\n",
    " .assign(lift_band = pd.qcut(predictions[\"lift\"], 5))\n",
    " .groupby([\"lift_band\", \"T\"])\n",
    " [[\"Y\"]]\n",
    " .mean()\n",
    " .reset_index()\n",
    " .pivot(index='lift_band', columns='T', values='Y')\n",
    " .assign(true_lift = lambda d: d[1.0] - d[0.0])\n",
    ")"
   ]
  },
  {
   "cell_type": "code",
   "execution_count": 28,
   "metadata": {},
   "outputs": [
    {
     "data": {
      "text/plain": [
       "1967.4371907374166"
      ]
     },
     "execution_count": 28,
     "metadata": {},
     "output_type": "execute_result"
    }
   ],
   "source": [
    "np.random.lognormal(6)"
   ]
  },
  {
   "cell_type": "code",
   "execution_count": null,
   "metadata": {},
   "outputs": [],
   "source": []
  }
 ],
 "metadata": {
  "kernelspec": {
   "display_name": "Python 3",
   "language": "python",
   "name": "python3"
  },
  "language_info": {
   "codemirror_mode": {
    "name": "ipython",
    "version": 3
   },
   "file_extension": ".py",
   "mimetype": "text/x-python",
   "name": "python",
   "nbconvert_exporter": "python",
   "pygments_lexer": "ipython3",
   "version": "3.6.9"
  }
 },
 "nbformat": 4,
 "nbformat_minor": 4
}
